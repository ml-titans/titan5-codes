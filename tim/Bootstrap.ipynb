{
 "cells": [
  {
   "cell_type": "markdown",
   "metadata": {},
   "source": [
    "# Bootstrap"
   ]
  },
  {
   "cell_type": "markdown",
   "metadata": {},
   "source": [
    "## 準備"
   ]
  },
  {
   "cell_type": "code",
   "execution_count": 1,
   "metadata": {
    "ExecuteTime": {
     "end_time": "2021-06-25T01:43:04.843568Z",
     "start_time": "2021-06-25T01:43:00.402248Z"
    }
   },
   "outputs": [],
   "source": [
    "import numpy as np\n",
    "import pandas as pd\n",
    "import graphviz\n",
    "import lingam\n",
    "from lingam.utils import print_causal_directions, print_dagc, make_dot\n",
    "import warnings\n",
    "\n",
    "\n",
    "# warningを非表示\n",
    "warnings.filterwarnings('ignore')\n",
    "\n",
    "# numpyは小数第3位まで表示\n",
    "np.set_printoptions(precision=3, suppress=True)\n",
    "\n",
    "# 乱数を設定\n",
    "np.random.seed(0)"
   ]
  },
  {
   "cell_type": "markdown",
   "metadata": {},
   "source": [
    "## テストデータ"
   ]
  },
  {
   "cell_type": "code",
   "execution_count": 2,
   "metadata": {
    "ExecuteTime": {
     "end_time": "2021-06-25T01:43:04.916646Z",
     "start_time": "2021-06-25T01:43:04.846013Z"
    }
   },
   "outputs": [],
   "source": [
    "# 各変数ごとにデータ生成\n",
    "x3 = np.random.uniform(size=1000)\n",
    "x0 = 3.0*x3 + np.random.uniform(size=1000)\n",
    "x2 = 6.0*x3 + np.random.uniform(size=1000)\n",
    "x1 = 3.0*x0 + 2.0*x2 + np.random.uniform(size=1000)\n",
    "x5 = 4.0*x0 + np.random.uniform(size=1000)\n",
    "x4 = 8.0*x0 - 1.0*x2 + np.random.uniform(size=1000)\n",
    "\n",
    "# DataFrameとして格納\n",
    "X = pd.DataFrame(np.array([x0, x1, x2, x3, x4, x5]).T ,columns=['x0', 'x1', 'x2', 'x3', 'x4', 'x5'])"
   ]
  },
  {
   "cell_type": "markdown",
   "metadata": {},
   "source": [
    "## ブートストラップ法"
   ]
  },
  {
   "cell_type": "code",
   "execution_count": 3,
   "metadata": {
    "ExecuteTime": {
     "end_time": "2021-06-25T01:43:15.155729Z",
     "start_time": "2021-06-25T01:43:05.634360Z"
    }
   },
   "outputs": [],
   "source": [
    "# DirectLiNGAMのオブジェクト\n",
    "model = lingam.DirectLiNGAM()\n",
    "\n",
    "# ブートストラップ法（サンプリング数100）で学習\n",
    "result = model.bootstrap(X, n_sampling=100)"
   ]
  },
  {
   "cell_type": "markdown",
   "metadata": {},
   "source": [
    "## 因果方向"
   ]
  },
  {
   "cell_type": "code",
   "execution_count": 4,
   "metadata": {
    "ExecuteTime": {
     "end_time": "2021-06-25T01:43:15.187708Z",
     "start_time": "2021-06-25T01:43:15.157773Z"
    }
   },
   "outputs": [],
   "source": [
    "# ブートストラップ法の結果に基づき因果の矢印を確度の高い順で集計\n",
    "# n_directions: 集計する因果の矢印の数（ランキング順）\n",
    "# min_causal_effect: 集計する係数（因果効果）の最小値\n",
    "# split_by_causal_effect_sign: 係数（因果効果）の符号を区別するかどうか\n",
    "cdc = result.get_causal_direction_counts(n_directions=8, min_causal_effect=0.01, split_by_causal_effect_sign=True)"
   ]
  },
  {
   "cell_type": "code",
   "execution_count": 5,
   "metadata": {
    "ExecuteTime": {
     "end_time": "2021-06-25T01:43:15.218627Z",
     "start_time": "2021-06-25T01:43:15.189703Z"
    }
   },
   "outputs": [
    {
     "name": "stdout",
     "output_type": "stream",
     "text": [
      "x5 <--- x0 (b>0) (100.0%)\n",
      "x1 <--- x0 (b>0) (100.0%)\n",
      "x1 <--- x2 (b>0) (100.0%)\n",
      "x4 <--- x2 (b<0) (100.0%)\n",
      "x0 <--- x3 (b>0) (99.0%)\n",
      "x4 <--- x0 (b>0) (98.0%)\n",
      "x2 <--- x3 (b>0) (96.0%)\n",
      "x1 <--- x5 (b>0) (56.0%)\n"
     ]
    }
   ],
   "source": [
    "# 集計結果の表示\n",
    "# 第2引数（=100）はブートストラップ法のサンプリング数を入力\n",
    "print_causal_directions(cdc, 100)"
   ]
  },
  {
   "cell_type": "markdown",
   "metadata": {},
   "source": [
    "## 有向非巡回グラフ"
   ]
  },
  {
   "cell_type": "code",
   "execution_count": 6,
   "metadata": {
    "ExecuteTime": {
     "end_time": "2021-06-25T01:43:15.261954Z",
     "start_time": "2021-06-25T01:43:15.223614Z"
    }
   },
   "outputs": [],
   "source": [
    "# ブートストラップ法の結果に基づき因果構造を確度の高い順で集計\n",
    "# n_dags: 集計する因果構造の数（ランキング順）\n",
    "# min_causal_effect: 考慮する係数（因果効果）の最小値\n",
    "# split_by_causal_effect_sign: 係数（因果効果）の符号を区別するかどうか\n",
    "dagc = result.get_directed_acyclic_graph_counts(n_dags=3, min_causal_effect=0.01, split_by_causal_effect_sign=True)"
   ]
  },
  {
   "cell_type": "code",
   "execution_count": 7,
   "metadata": {
    "ExecuteTime": {
     "end_time": "2021-06-25T01:43:15.307514Z",
     "start_time": "2021-06-25T01:43:15.261954Z"
    }
   },
   "outputs": [
    {
     "name": "stdout",
     "output_type": "stream",
     "text": [
      "DAG[0]: 6.0%\n",
      "\tx0 <--- x3 (b>0)\n",
      "\tx1 <--- x0 (b>0)\n",
      "\tx1 <--- x2 (b>0)\n",
      "\tx2 <--- x3 (b>0)\n",
      "\tx4 <--- x0 (b>0)\n",
      "\tx4 <--- x2 (b<0)\n",
      "\tx5 <--- x0 (b>0)\n",
      "\tx5 <--- x3 (b>0)\n",
      "DAG[1]: 5.0%\n",
      "\tx0 <--- x3 (b>0)\n",
      "\tx1 <--- x0 (b>0)\n",
      "\tx1 <--- x2 (b>0)\n",
      "\tx2 <--- x3 (b>0)\n",
      "\tx4 <--- x0 (b>0)\n",
      "\tx4 <--- x2 (b<0)\n",
      "\tx5 <--- x0 (b>0)\n",
      "DAG[2]: 4.0%\n",
      "\tx0 <--- x3 (b>0)\n",
      "\tx1 <--- x0 (b>0)\n",
      "\tx1 <--- x2 (b>0)\n",
      "\tx1 <--- x5 (b>0)\n",
      "\tx2 <--- x0 (b>0)\n",
      "\tx2 <--- x3 (b>0)\n",
      "\tx4 <--- x0 (b>0)\n",
      "\tx4 <--- x2 (b<0)\n",
      "\tx5 <--- x0 (b>0)\n",
      "\tx5 <--- x3 (b>0)\n"
     ]
    }
   ],
   "source": [
    "# 集計結果の表示\n",
    "# 第2引数（=100）はブートストラップサンプル数を入力\n",
    "print_dagc(dagc, 100)"
   ]
  },
  {
   "cell_type": "markdown",
   "metadata": {},
   "source": [
    "## 出現確率"
   ]
  },
  {
   "cell_type": "code",
   "execution_count": 8,
   "metadata": {
    "ExecuteTime": {
     "end_time": "2021-06-25T01:43:15.323471Z",
     "start_time": "2021-06-25T01:43:15.311503Z"
    }
   },
   "outputs": [
    {
     "name": "stdout",
     "output_type": "stream",
     "text": [
      "[[0.   0.   0.1  0.99 0.02 0.  ]\n",
      " [1.   0.   1.   0.11 0.07 0.56]\n",
      " [0.4  0.   0.   0.96 0.   0.04]\n",
      " [0.   0.   0.04 0.   0.   0.  ]\n",
      " [0.98 0.01 1.   0.11 0.   0.36]\n",
      " [1.   0.01 0.11 0.56 0.15 0.  ]]\n"
     ]
    }
   ],
   "source": [
    "# ブートストラップ法の結果に基づき各因果の矢印の出現確率を集計\n",
    "# min_causal_effect: 考慮する係数（因果効果）の最小値\n",
    "prob = result.get_probabilities(min_causal_effect=0.01)\n",
    "\n",
    "# 集計結果の表示\n",
    "print(prob)"
   ]
  },
  {
   "cell_type": "markdown",
   "metadata": {},
   "source": [
    "## （総合）因果効果"
   ]
  },
  {
   "cell_type": "code",
   "execution_count": 9,
   "metadata": {
    "ExecuteTime": {
     "end_time": "2021-06-25T01:43:15.355386Z",
     "start_time": "2021-06-25T01:43:15.326464Z"
    }
   },
   "outputs": [],
   "source": [
    "# ブートストラップ法の結果に基づき（総合）因果効果を計算\n",
    "# min_causal_effect: 考慮する係数（因果効果）の最小値\n",
    "causal_effects = result.get_total_causal_effects(min_causal_effect=0.01)\n",
    "\n",
    "# DataFrameに結果をまとめる\n",
    "df = pd.DataFrame(causal_effects)\n",
    "labels = [f'x{i}' for i in range(X.shape[1])]\n",
    "df['from'] = df['from'].apply(lambda x : labels[x])\n",
    "df['to'] = df['to'].apply(lambda x : labels[x])"
   ]
  },
  {
   "cell_type": "code",
   "execution_count": 10,
   "metadata": {
    "ExecuteTime": {
     "end_time": "2021-06-25T01:43:15.387302Z",
     "start_time": "2021-06-25T01:43:15.358380Z"
    }
   },
   "outputs": [
    {
     "name": "stdout",
     "output_type": "stream",
     "text": [
      "  from  to     effect  probability\n",
      "4   x3  x1  20.931938         1.00\n",
      "5   x3  x4  18.077244         1.00\n",
      "6   x3  x5  12.024250         1.00\n",
      "8   x0  x4   7.993145         0.98\n",
      "9   x3  x2   5.970163         0.96\n"
     ]
    }
   ],
   "source": [
    "# （総合）因果効果の大きい順にトップ5を表示\n",
    "print(df.sort_values('effect', ascending=False).head())"
   ]
  },
  {
   "cell_type": "code",
   "execution_count": 11,
   "metadata": {
    "ExecuteTime": {
     "end_time": "2021-06-25T01:43:15.417222Z",
     "start_time": "2021-06-25T01:43:15.392289Z"
    }
   },
   "outputs": [
    {
     "name": "stdout",
     "output_type": "stream",
     "text": [
      "   from  to    effect  probability\n",
      "18   x4  x5  0.002161         0.02\n",
      "16   x4  x1  0.365265         0.02\n",
      "17   x4  x0  0.123074         0.02\n",
      "15   x2  x3  0.163050         0.04\n",
      "14   x2  x5  1.961195         0.04\n"
     ]
    }
   ],
   "source": [
    "# 存在確率の小さい順にトップ5を表示\n",
    "print(df.sort_values('probability', ascending=True).head())"
   ]
  },
  {
   "cell_type": "code",
   "execution_count": 12,
   "metadata": {
    "ExecuteTime": {
     "end_time": "2021-06-25T01:43:15.449138Z",
     "start_time": "2021-06-25T01:43:15.421214Z"
    }
   },
   "outputs": [
    {
     "name": "stdout",
     "output_type": "stream",
     "text": [
      "   from  to     effect  probability\n",
      "2    x0  x1   3.004868         1.00\n",
      "3    x2  x1   2.092102         1.00\n",
      "4    x3  x1  20.931938         1.00\n",
      "13   x5  x1   0.021796         0.14\n",
      "16   x4  x1   0.365265         0.02\n"
     ]
    }
   ],
   "source": [
    "# x1に向かう（総合）因果効果を表示\n",
    "print(df[df['to']=='x1'].head())"
   ]
  },
  {
   "cell_type": "markdown",
   "metadata": {},
   "source": [
    "## 経路の存在確率と（総合）因果効果"
   ]
  },
  {
   "cell_type": "code",
   "execution_count": 13,
   "metadata": {
    "ExecuteTime": {
     "end_time": "2021-06-25T01:43:17.514898Z",
     "start_time": "2021-06-25T01:43:17.470046Z"
    }
   },
   "outputs": [
    {
     "name": "stdout",
     "output_type": "stream",
     "text": [
      "           path     effect  probability\n",
      "0     [3, 0, 1]   8.567958         0.99\n",
      "1     [3, 2, 1]  11.943522         0.96\n",
      "2  [3, 0, 5, 1]   0.413070         0.63\n",
      "3  [3, 0, 2, 1]   0.249261         0.40\n",
      "4     [3, 5, 1]   0.005053         0.36\n"
     ]
    }
   ],
   "source": [
    "# ブートストラップ法の結果に基づき経路の存在確率と（総合）因果効果を計算\n",
    "from_index = 3 # 原因となる変数のインデックス（x3）\n",
    "to_index = 1 # 結果となる変数のインデックス（x1）\n",
    "\n",
    "# 存在確率の大きい順にトップ5を表示\n",
    "print(pd.DataFrame(result.get_paths(from_index, to_index)).head())"
   ]
  },
  {
   "cell_type": "code",
   "execution_count": null,
   "metadata": {},
   "outputs": [],
   "source": []
  }
 ],
 "metadata": {
  "kernelspec": {
   "display_name": "Python 3 (ipykernel)",
   "language": "python",
   "name": "python3"
  },
  "language_info": {
   "codemirror_mode": {
    "name": "ipython",
    "version": 3
   },
   "file_extension": ".py",
   "mimetype": "text/x-python",
   "name": "python",
   "nbconvert_exporter": "python",
   "pygments_lexer": "ipython3",
   "version": "3.9.4"
  },
  "toc": {
   "base_numbering": 1,
   "nav_menu": {},
   "number_sections": true,
   "sideBar": true,
   "skip_h1_title": false,
   "title_cell": "Table of Contents",
   "title_sidebar": "Contents",
   "toc_cell": false,
   "toc_position": {},
   "toc_section_display": true,
   "toc_window_display": false
  }
 },
 "nbformat": 4,
 "nbformat_minor": 2
}
